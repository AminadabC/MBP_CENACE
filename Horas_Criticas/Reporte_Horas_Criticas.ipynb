{
 "cells": [
  {
   "cell_type": "markdown",
   "metadata": {},
   "source": [
    "### Análisis de Horas Críticas del Mercado para el Balance de Potencia ###\n",
    "**Author:** Aminadab Cordova\n",
    "\n",
    "**Date:** 2024-05-02"
   ]
  }
 ],
 "metadata": {
  "language_info": {
   "name": "python"
  }
 },
 "nbformat": 4,
 "nbformat_minor": 2
}
